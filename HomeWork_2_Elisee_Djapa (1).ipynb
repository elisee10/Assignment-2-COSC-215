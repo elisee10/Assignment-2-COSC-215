{
 "cells": [
  {
   "cell_type": "code",
   "execution_count": 44,
   "metadata": {},
   "outputs": [
    {
     "name": "stdout",
     "output_type": "stream",
     "text": [
      "The data for this table is numerical (quantitative) for scores between two students out of 10 test scores\n"
     ]
    }
   ],
   "source": [
    "\"Question 1\"\n",
    "\n",
    "print(\"The data for this table is numerical (quantitative) for scores between two students out of 10 test scores\")"
   ]
  },
  {
   "cell_type": "code",
   "execution_count": null,
   "metadata": {},
   "outputs": [],
   "source": []
  },
  {
   "cell_type": "code",
   "execution_count": 13,
   "metadata": {},
   "outputs": [
    {
     "data": {
      "image/png": "[encoded data removed]",
      "text/plain": [
       "<Figure size 1440x648 with 1 Axes>"
      ]
     },
     "metadata": {
      "needs_background": "light"
     },
     "output_type": "display_data"
    },
    {
     "name": "stdout",
     "output_type": "stream",
     "text": [
      "88.5\n",
      "78.8\n",
      "The most consistent student is student 1, with a score of 88.5 %\n"
     ]
    }
   ],
   "source": [
    "import numpy as np\n",
    "import matplotlib.pyplot as plt\n",
    "%matplotlib inline\n",
    "plt.rcParams[\"figure.figsize\"] = 20, 9\n",
    "\n",
    "locs = \"upper right\"\n",
    "\n",
    "\n",
    "\n",
    "#data to to be plottted \n",
    "\n",
    "num_total_tests = 10\n",
    "means_student_1= (95,83,96,88,78,87,90,83,91, 94)\n",
    "means_student_2= (90,60,75,82,80,65, 88,91,67,90)\n",
    "\n",
    "#making the plot \n",
    "fig, ax = plt.subplots()\n",
    "index = np.arange(num_total_tests)\n",
    "bar_width = 0.39\n",
    "opacity = 0.8\n",
    "\n",
    "\n",
    "rect1 = plt.bar(index, means_student_1, bar_width, alpha=opacity, color=\"y\", label=\"Student_1\")\n",
    "\n",
    "rect2 = plt.bar(index +  bar_width, means_student_2, bar_width, alpha=opacity, color=\"r\", label=\"Student_2\")\n",
    "\n",
    "plt.xlabel(\"Student score\")\n",
    "plt.ylabel(\"Scores\")\n",
    "plt.title(\"Scores per student out of 10 Tests\")\n",
    "plt.xticks(index + bar_width, (\"Test 1\", \"Test 2\", \"Test3 \", \"Test 4\", \"Test 5\", \"Test 6\", \"Test 7\", \"Test 8\", \"Test 9\",\"Test 10\"))\n",
    "plt.legend(loc =\"upper right\")\n",
    "plt.show()\n",
    "\n",
    "\n",
    "Student_1_Total =  sum(means_student_1) / 1000 * (100)\n",
    "Student_2_Total = sum(means_student_2) / 1000 * (100)\n",
    "\n",
    "print(Student_1_Total)\n",
    "print(Student_2_Total)\n",
    "\n",
    "print(\"The most consistent student is student 1, with a score of \" + str(Student_1_Total), \"%\")"
   ]
  },
  {
   "cell_type": "code",
   "execution_count": 20,
   "metadata": {},
   "outputs": [
    {
     "name": "stdout",
     "output_type": "stream",
     "text": [
      "Question 2a\n",
      " \n",
      "High Temperature Baltimore\n",
      " \n",
      "The Mode of high temperature of baltimore is:  43\n",
      "The Mean of high temperature of baltimore is:  66.75\n",
      "The Median of high temperature of baltimore is:  68.0\n",
      "The Standard Deviation  of high temperature of baltimore is:  16.847578730812007\n",
      "The Semi Quartile Range of high temperature of baltimore is:  31.5\n",
      " \n",
      "Low Temperature Baltimore\n",
      " \n",
      "The Mode of low temperature of baltimore is:  29\n",
      "The Mean of low temperature of baltimore is:  50.75\n",
      "The Median of low temperature of baltimore is:  50.0\n",
      "The Standard Deviation  of low temperature of baltimore is:  15.949494149858284\n",
      "The Semi Quartile Range of low temperature of baltimore is:  29.5\n",
      " \n",
      "High Temperature Los Angeles\n",
      " \n",
      "The Mode of high temperature of baltimore is:  68\n",
      "The Mean of high temperature of baltimore is:  75.33333333333333\n",
      "The Median of high temperature of baltimore is:  73.5\n",
      "The Standard Deviation  of high temperature of baltimore is:  6.227991553292184\n",
      "The Semi Quartile Range of high temperature of baltimore is:  11.5\n",
      " \n",
      "Low Temperature Los Angeles\n",
      " \n",
      "The Mode of high temperature of baltimore is:  49\n",
      "The Mean of high temperature of baltimore is:  57.083333333333336\n",
      "The Median of high temperature of baltimore is:  56.5\n",
      "The Standard Deviation  of high temperature of baltimore is:  6.41671585970911\n",
      "The Semi Quartile Range of high temperature of baltimore is:  12.0\n"
     ]
    }
   ],
   "source": [
    "print(\"Question 2a\")\n",
    "print(\" \")\n",
    "import statistics \n",
    "from scipy import stats\n",
    "import pandas as pd\n",
    "\n",
    "print(\"High Temperature Baltimore\")\n",
    "print(\" \")\n",
    "high_temp_balt = [43,46,55,67,76,85,89,87,80,69,57,47]\n",
    "  \n",
    "high_balt_mode = statistics.mode(high_temp_balt) \n",
    "high_balt_mean = statistics.mean(high_temp_balt) \n",
    "high_balt_median = statistics.median(high_temp_balt)\n",
    "high_balt_sdv = statistics.stdev(high_temp_balt)\n",
    "# Interquartile range (IQR) \n",
    "high_balt_SQR = stats.iqr(high_temp_balt, interpolation = 'midpoint') \n",
    "\n",
    "print(\"The Mode of high temperature of baltimore is: \", high_balt_mode)\n",
    "print(\"The Mean of high temperature of baltimore is: \", high_balt_mean)\n",
    "print(\"The Median of high temperature of baltimore is: \", high_balt_median)\n",
    "print(\"The Standard Deviation  of high temperature of baltimore is: \", high_balt_sdv)\n",
    "print(\"The Semi Quartile Range of high temperature of baltimore is: \", high_balt_SQR)\n",
    "\n",
    "print(\" \")\n",
    "print(\"Low Temperature Baltimore\")\n",
    "print(\" \")\n",
    "low_temp_balt = [29,31,39,48,58,68,73,71,64,52,42,34]\n",
    "  \n",
    "low_balt_mode = statistics.mode(low_temp_balt) \n",
    "low_balt_mean = statistics.mean(low_temp_balt) \n",
    "low_balt_median = statistics.median(low_temp_balt)\n",
    "low_balt_sdv = statistics.stdev(low_temp_balt)\n",
    "# Interquartile range (IQR) \n",
    "low_balt_SQR = stats.iqr(low_temp_balt, interpolation = 'midpoint') \n",
    "\n",
    "print(\"The Mode of low temperature of baltimore is: \", low_balt_mode)\n",
    "print(\"The Mean of low temperature of baltimore is: \", low_balt_mean)\n",
    "print(\"The Median of low temperature of baltimore is: \", low_balt_median)\n",
    "print(\"The Standard Deviation  of low temperature of baltimore is: \", low_balt_sdv)\n",
    "print(\"The Semi Quartile Range of low temperature of baltimore is: \", low_balt_SQR)\n",
    "\n",
    "print(\" \")\n",
    "print(\"High Temperature Los Angeles\")\n",
    "print(\" \")\n",
    "high_temp_LA = [68,69,70,73,74,79,83,85,83,79,73,68]\n",
    "  \n",
    "high_LA_mode = statistics.mode(high_temp_LA) \n",
    "high_LA_mean = statistics.mean(high_temp_LA) \n",
    "high_LA_median = statistics.median(high_temp_LA)\n",
    "high_LA_sdv = statistics.stdev(high_temp_LA)\n",
    "# Interquartile range (IQR) \n",
    "high_LA_SQR = stats.iqr(high_temp_LA, interpolation = 'midpoint') \n",
    "\n",
    "print(\"The Mode of high temperature of baltimore is: \", high_LA_mode)\n",
    "print(\"The Mean of high temperature of baltimore is: \", high_LA_mean)\n",
    "print(\"The Median of high temperature of baltimore is: \", high_LA_median)\n",
    "print(\"The Standard Deviation  of high temperature of baltimore is: \", high_LA_sdv)\n",
    "print(\"The Semi Quartile Range of high temperature of baltimore is: \", high_LA_SQR)\n",
    "\n",
    "\n",
    "print(\" \")\n",
    "print(\"Low Temperature Los Angeles\")\n",
    "print(\" \")\n",
    "low_temp_LA = [49,51,52,55,58,62,65,66,65,60,53,49]\n",
    "  \n",
    "low_LA_mode = statistics.mode(low_temp_LA) \n",
    "low_LA_mean = statistics.mean(low_temp_LA) \n",
    "low_LA_median = statistics.median(low_temp_LA)\n",
    "low_LA_sdv = statistics.stdev(low_temp_LA)\n",
    "# Interquartile range (IQR) \n",
    "low_LA_SQR = stats.iqr(low_temp_LA, interpolation = 'midpoint') \n",
    "\n",
    "print(\"The Mode of high temperature of baltimore is: \", low_LA_mode)\n",
    "print(\"The Mean of high temperature of baltimore is: \", low_LA_mean)\n",
    "print(\"The Median of high temperature of baltimore is: \", low_LA_median)\n",
    "print(\"The Standard Deviation  of high temperature of baltimore is: \", low_LA_sdv)\n",
    "print(\"The Semi Quartile Range of high temperature of baltimore is: \", low_LA_SQR)\n",
    "\n",
    "\n"
   ]
  },
  {
   "cell_type": "code",
   "execution_count": null,
   "metadata": {},
   "outputs": [],
   "source": [
    "print(\"2b\")\n",
    "print(\"Central tendency: the mean provides a better description and representation \")\n",
    "print(\"central variability: the standard deviatio provids a better description of the mean\")\n",
    "print(' ')\n"
   ]
  },
  {
   "cell_type": "code",
   "execution_count": 17,
   "metadata": {},
   "outputs": [
    {
     "name": "stdout",
     "output_type": "stream",
     "text": [
      "c\n",
      " Rainfall wise baltimore is more consistent, and low vs high Baltimore is also more consistent base on the standard deviation\n"
     ]
    }
   ],
   "source": [
    "print(\"2c\")\n",
    "print(\" Rainfall wise baltimore is more consistent, and low vs high Baltimore is also more consistent base on the standard deviation\")\n",
    "print(\" \")"
   ]
  },
  {
   "cell_type": "code",
   "execution_count": 18,
   "metadata": {},
   "outputs": [
    {
     "data": {
      "image/png": "[encoded data removed]",
      "text/plain": [
       "<Figure size 1440x648 with 1 Axes>"
      ]
     },
     "metadata": {
      "needs_background": "light"
     },
     "output_type": "display_data"
    }
   ],
   "source": [
    "print(\"2d\")\n",
    "import matplotlib.pyplot as plt\n",
    "data = [high_temp_balt , low_temp_balt, high_temp_LA, low_temp_LA, ]\n",
    "plt.boxplot(data)\n",
    "plt.show()"
   ]
  },
  {
   "cell_type": "code",
   "execution_count": 6,
   "metadata": {},
   "outputs": [
    {
     "name": "stdout",
     "output_type": "stream",
     "text": [
      "question #3\n",
      " \n"
     ]
    },
    {
     "data": {
      "image/png": "[encoded data removed]",
      "text/plain": [
       "<Figure size 432x288 with 1 Axes>"
      ]
     },
     "metadata": {
      "needs_background": "light"
     },
     "output_type": "display_data"
    },
    {
     "name": "stdout",
     "output_type": "stream",
     "text": [
      "Correlation coefficient is 0.7728215304907462\n",
      " \n",
      "It is a positive correlation, because both the values on the x and the y axes are increasing in both direction\n"
     ]
    }
   ],
   "source": [
    "print(\"question #3\")\n",
    "\n",
    "print(\" \")\n",
    "import matplotlib.pyplot as plt\n",
    "import numpy as np\n",
    "\n",
    "from scipy.stats import pearsonr\n",
    "\n",
    "in_feet = [35,50,75, 95,120, 130,145, 155,160, 175,185,190]\n",
    "in_mins= [5.88, 5.99, 6.74, 6.1, 7.47, 6.93, 6.42, 7.97, 7.92, 7.62, 6.89, 7.9]\n",
    "plt.scatter(in_feet, in_mins)\n",
    "plt.xlabel(\"x-values\")\n",
    "plt.ylabel(\"y-label\")\n",
    "plt.title(\"Scatter plot\")\n",
    "plt.show()\n",
    "c,_ = pearsonr(in_feet, in_mins)\n",
    "print(\"Correlation coefficient is\", c)\n",
    "print(\" \")\n",
    "print(\"It is a positive correlation, because both the values on the x and the y axes are increasing in both direction\")"
   ]
  },
  {
   "cell_type": "code",
   "execution_count": null,
   "metadata": {},
   "outputs": [],
   "source": []
  }
 ],
 "metadata": {
  "kernelspec": {
   "display_name": "Python 3",
   "language": "python",
   "name": "python3"
  },
  "language_info": {
   "codemirror_mode": {
    "name": "ipython",
    "version": 3
   },
   "file_extension": ".py",
   "mimetype": "text/x-python",
   "name": "python",
   "nbconvert_exporter": "python",
   "pygments_lexer": "ipython3",
   "version": "3.8.3"
  }
 },
 "nbformat": 4,
 "nbformat_minor": 4
}
